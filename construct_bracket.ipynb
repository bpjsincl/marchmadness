{
 "metadata": {
  "name": "construct_bracket"
 },
 "nbformat": 3,
 "nbformat_minor": 0,
 "worksheets": [
  {
   "cells": [
    {
     "cell_type": "code",
     "collapsed": false,
     "input": [
      "from __future__ import division\n",
      "import numpy as np\n",
      "import pandas as pd\n",
      "from pprint import pprint\n",
      "import get_data as gd\n",
      "from get_data import *\n",
      "import calc_stats as cs\n",
      "from calc_stats import *\n",
      "\n",
      "all_seasons = list(gd.get_seasons()['season'])\n",
      "curr_season = all_seasons[0]\n",
      "\n",
      "tourney_seeds = gd.get_tourney_seeds()\n",
      "tourney_slots = gd.get_tourney_slots()\n",
      "tourney_results = gd.get_tourney_results()"
     ],
     "language": "python",
     "metadata": {},
     "outputs": [],
     "prompt_number": 1
    },
    {
     "cell_type": "code",
     "collapsed": false,
     "input": [
      "tourney_results_s = tourney_results.ix[tourney_results['season'] == curr_season]\n",
      "T_matchup_results = tourney_results_s[['wteam', 'lteam']]"
     ],
     "language": "python",
     "metadata": {},
     "outputs": [],
     "prompt_number": 2
    },
    {
     "cell_type": "code",
     "collapsed": false,
     "input": [
      "tourney_slots_s = tourney_slots.ix[tourney_slots['season'] == curr_season]\n",
      "Tseeds_map = cs.tourney_seeds_dict(tourney_seeds, curr_season) #get mapping of teams to seed in tournament"
     ],
     "language": "python",
     "metadata": {},
     "outputs": [],
     "prompt_number": 3
    },
    {
     "cell_type": "code",
     "collapsed": false,
     "input": [
      "def bracket(tourney_match_seeds):  \n",
      "    winners = []\n",
      "    outcome = []\n",
      "    for matchup in tourney_match_seeds:\n",
      "        opt1 = ((T_matchup_results['wteam'] == Tseeds_map[matchup[1][0]]) & (T_matchup_results['lteam'] == Tseeds_map[matchup[1][1]]))\n",
      "        opt2 = ((T_matchup_results['lteam'] == Tseeds_map[matchup[1][0]]) & (T_matchup_results['wteam'] == Tseeds_map[matchup[1][1]]))\n",
      "        if opt1.any() == True: #then winner is team A\n",
      "            winner = matchup[1][0]\n",
      "        else:\n",
      "            winner = matchup[1][1]\n",
      "        outcome = [matchup[0], winner]\n",
      "        winners.append(outcome)\n",
      "    return winners\n",
      "\n",
      "def construct_tourney_winners(tourney_slots_s):\n",
      "    rounds = [1, 2, 3, 4, 5, 6]\n",
      "    last_winners_dict = {}\n",
      "    for R in rounds:\n",
      "        tourney_slots_s_R = tourney_slots_s.ix[tourney_slots_s['slot'].str.contains('R'+str(R))]\n",
      "        seed_matchups_R = tourney_slots_s_R[['slot', 'strongseed', 'weakseed']].values\n",
      "        tourney_match_seeds = [[x[0], tuple(x[1:3])] for x in seed_matchups_R] #matchups by game label\n",
      "        \n",
      "        if R!=1:\n",
      "            tourney_match_seeds = [[x[0], (last_winners_dict[x[1][0]],last_winners_dict[x[1][1]])] for x in tourney_match_seeds]\n",
      "            winners = bracket(tourney_match_seeds)\n",
      "    \n",
      "        winners = bracket(tourney_match_seeds)\n",
      "        last_winners = [Tseeds_map[s[1]] for s in winners] #teams that won first round\n",
      "        last_winners_dict.update(winners)\n",
      "    return last_winners_dict"
     ],
     "language": "python",
     "metadata": {},
     "outputs": [],
     "prompt_number": 4
    },
    {
     "cell_type": "code",
     "collapsed": false,
     "input": [
      "last_winners_dict = construct_tourney_winners(tourney_slots_s)\n",
      "tournament_champion = Tseeds_map[last_winners_dict['R6CH']]"
     ],
     "language": "python",
     "metadata": {},
     "outputs": [],
     "prompt_number": 5
    },
    {
     "cell_type": "code",
     "collapsed": false,
     "input": [
      "tournament_champion"
     ],
     "language": "python",
     "metadata": {},
     "outputs": [
      {
       "output_type": "pyout",
       "prompt_number": 7,
       "text": [
        "'640'"
       ]
      }
     ],
     "prompt_number": 7
    },
    {
     "cell_type": "code",
     "collapsed": false,
     "input": [],
     "language": "python",
     "metadata": {},
     "outputs": []
    }
   ],
   "metadata": {}
  }
 ]
}