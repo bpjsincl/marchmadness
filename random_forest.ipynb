{
 "metadata": {
  "name": ""
 },
 "nbformat": 3,
 "nbformat_minor": 0,
 "worksheets": [
  {
   "cells": [
    {
     "cell_type": "code",
     "collapsed": false,
     "input": [
      "from __future__ import division\n",
      "import numpy as np\n",
      "import pandas as pd\n",
      "from pprint import pprint\n",
      "import os\n",
      "from get_data import *"
     ],
     "language": "python",
     "metadata": {},
     "outputs": [],
     "prompt_number": 8
    },
    {
     "cell_type": "code",
     "collapsed": false,
     "input": [
      "from sklearn.datasets import load_iris\n",
      "from sklearn.ensemble import RandomForestClassifier\n",
      "import pandas as pd\n",
      "import numpy as np\n",
      "from calc_stats import *\n",
      "from get_data import *\n",
      "import random_forest as rf\n",
      "import random"
     ],
     "language": "python",
     "metadata": {},
     "outputs": [],
     "prompt_number": 9
    },
    {
     "cell_type": "code",
     "collapsed": false,
     "input": [
      "all_seasons = list(gd.get_seasons()['season'])\n",
      "last_season = all_seasons[0]\n",
      "curr_season = all_seasons[0]\n",
      "\n",
      "tourney_results = get_tourney_results()\n",
      "tourney_seeds = get_tourney_seeds()\n",
      "tourney_slots = get_tourney_slots()\n",
      "\n",
      "tourney_results_s = tourney_results.ix[tourney_results['season'] == curr_season]\n",
      "T_matchup_results = tourney_results_s[['wteam', 'lteam']]\n",
      "tourney_slots_s = tourney_slots.ix[tourney_slots['season'] == curr_season]\n",
      "\n",
      "teams_in_tourney = single_tourney_teams(curr_season,tourney_seeds)\n",
      "tourney_stats_dict = teams_season_stats(teams_in_tourney, curr_season) #(reg season avg_score, reg season win/loss %)\n",
      "Tseeds_map = tourney_seeds_dict(tourney_seeds, curr_season) #get mapping of teams to seed in tournament\n",
      "\n",
      "last_winners_dict, tourney_match_seeds, all_game_outcomes = construct_tourney_winners(tourney_slots_s, T_matchup_results, Tseeds_map)\n",
      "tournament_champion = Tseeds_map[last_winners_dict['R6CH']]\n",
      "\n",
      "NN_input_vec = create_features(all_game_outcomes, tourney_stats_dict, Tseeds_map)\n",
      "\n",
      "feature_names = ['A_avg_score', 'A_win_pct', 'B_avg_score', 'B_win_pct', 'winner']\n",
      "RF_data = pd.DataFrame(NN_input_vec, columns=feature_names)"
     ],
     "language": "python",
     "metadata": {},
     "outputs": [],
     "prompt_number": 130
    },
    {
     "cell_type": "code",
     "collapsed": false,
     "input": [],
     "language": "python",
     "metadata": {},
     "outputs": [],
     "prompt_number": 14
    },
    {
     "cell_type": "code",
     "collapsed": false,
     "input": [
      "def get_features(team):\n",
      "    avg_score = random.randrange(60,90) # RANDOM\n",
      "    avg_win_pct = random.randrange(5,9) #RANDOM\n",
      "    return [avg_score, avg_win_pct/10]\n",
      "\n",
      "def classify(matchup, training_data):\n",
      "    \n",
      "    feature_names = list(training_data.columns.values)\n",
      "    \n",
      "    SS_features = get_features(matchup['strongseed'])\n",
      "    WS_features= get_features(matchup['weakseed'])\n",
      "    \n",
      "    test = pd.DataFrame([SS_features + WS_features], columns=feature_names[:4]) #4 features\n",
      "    \n",
      "    training_data.head()\n",
      "    features = training_data.columns[:4] #4 features\n",
      "    clf = RandomForestClassifier(n_jobs=2)\n",
      "    y, _ = pd.factorize(training_data['winner'])\n",
      "    clf.fit(training_data[features], y)\n",
      "    \n",
      "    prob_preds = clf.predict_proba(test[features])\n",
      "    preds = clf.predict(test[features])[0]\n",
      "\n",
      "    winner = matchup['strongseed'] if preds == 0 else matchup['weakseed']\n",
      "    prob = prob_preds[0][preds]\n",
      "    \n",
      "    return winner, prob\n",
      "\n",
      "def run_bracket(tourney_slots_s, RF_data):       \n",
      "\ttourney_slots_s['winner'] = 0\n",
      "\ttourney_slots_s['prob'] = 0\n",
      "\tfor num in range(1,5):#len(tourney_slots_s)):\n",
      "\t    matchup = tourney_slots_s.ix[num]\n",
      "\t    round_1_flag = True\n",
      "\t    if list(matchup['strongseed'])[0] == 'R':\n",
      "\t        team_A = tourney_slots_s[(tourney_slots_s.slot == matchup['strongseed'])]['winner']\n",
      "\t        team_B = tourney_slots_s[(tourney_slots_s.slot == matchup['weakseed'])]['winner']\n",
      "\n",
      "\t        l_team_A = list(list(team_A)[0])\n",
      "\t        i_team_A = int(l_team_A[1]+l_team_A[2])\n",
      "\t        \n",
      "\t        l_team_B = list(list(team_B)[0])\n",
      "\t        i_team_B = int(l_team_A[1]+l_team_B[2])\n",
      "\n",
      "\t        if i_team_A < i_team_B:\n",
      "\t            matchup['strongseed'] = list(team_A)[0]\n",
      "\t            matchup['weakseed'] = list(team_B)[0]\n",
      "\t        else:\n",
      "\t            matchup['strongseed'] = list(team_B)[0]\n",
      "\t            matchup['weakseed'] = list(team_A)[0]\n",
      "\t    \n",
      "\t    winner, prob = classify(matchup, RF_data)\n",
      "\t    matchup['prob'] = prob\n",
      "\n",
      "\t    if (round_1_flag):\n",
      "\t        matchup['winner'] = winner\n",
      "\t    else:\n",
      "\t        matchup['winner'] = list(winner)[0]\n",
      "\t        \n",
      "\t    tourney_slots_s.ix[num] = matchup\n",
      "\n",
      "def cross_validation(training_data):\n",
      "    training_data['is_train'] = np.random.uniform(0, 1, len(RF_data)) <= .75\n",
      "    training_data.head()\n",
      "     \n",
      "    train, test = training_data[training_data['is_train']==True], training_data[training_data['is_train']==False]\n",
      "     \n",
      "    features = training_data.columns[:4]\n",
      "    clf = RandomForestClassifier(n_jobs=2)\n",
      "    y, _ = pd.factorize(train['winner'])\n",
      "    clf.fit(train[features], y)\n",
      "    \n",
      "    target_names = np.array(['strongseed', 'weakseed'])\n",
      "    preds = target_names[clf.predict(test[features])]\n",
      "    cross_tab = pd.crosstab(test['winner'], preds, rownames=['actual'], colnames=['preds'])\n",
      "    return cross_tab"
     ],
     "language": "python",
     "metadata": {},
     "outputs": [],
     "prompt_number": 131
    },
    {
     "cell_type": "code",
     "collapsed": false,
     "input": [
      "# run_bracket(tourney_slots_s, RF_data)\n",
      "# tourney_slots_s\n",
      "cross_validation(RF_data)"
     ],
     "language": "python",
     "metadata": {},
     "outputs": [
      {
       "html": [
        "<div style=\"max-height:1000px;max-width:1500px;overflow:auto;\">\n",
        "<table border=\"1\" class=\"dataframe\">\n",
        "  <thead>\n",
        "    <tr style=\"text-align: right;\">\n",
        "      <th>preds</th>\n",
        "      <th>strongseed</th>\n",
        "      <th>weakseed</th>\n",
        "    </tr>\n",
        "    <tr>\n",
        "      <th>actual</th>\n",
        "      <th></th>\n",
        "      <th></th>\n",
        "    </tr>\n",
        "  </thead>\n",
        "  <tbody>\n",
        "    <tr>\n",
        "      <th>0</th>\n",
        "      <td> 5</td>\n",
        "      <td> 1</td>\n",
        "    </tr>\n",
        "    <tr>\n",
        "      <th>1</th>\n",
        "      <td> 6</td>\n",
        "      <td> 0</td>\n",
        "    </tr>\n",
        "  </tbody>\n",
        "</table>\n",
        "<p>2 rows \u00d7 2 columns</p>\n",
        "</div>"
       ],
       "metadata": {},
       "output_type": "pyout",
       "prompt_number": 132,
       "text": [
        "preds   strongseed  weakseed\n",
        "actual                      \n",
        "0                5         1\n",
        "1                6         0\n",
        "\n",
        "[2 rows x 2 columns]"
       ]
      }
     ],
     "prompt_number": 132
    },
    {
     "cell_type": "code",
     "collapsed": false,
     "input": [
      "iris = load_iris()\n",
      "df = pd.DataFrame(iris.data, columns=iris.feature_names)\n",
      "df['is_train'] = np.random.uniform(0, 1, len(df)) <= .75\n",
      "df['species'] = pd.Categorical(iris.target, iris.target_names)\n",
      "df.head()\n",
      " \n",
      "train, test = df[df['is_train']==True], df[df['is_train']==False]\n",
      " \n",
      "features = df.columns[:4]\n",
      "clf = RandomForestClassifier(n_jobs=2)\n",
      "y, _ = pd.factorize(train['species'])\n",
      "clf.fit(train[features], y)\n",
      "preds_prob = clf.predict_proba(test[features])\n",
      "preds = iris.target_names[clf.predict(test[features])]\n",
      "pd.crosstab(test['species'], preds, rownames=['actual'], colnames=['preds'])"
     ],
     "language": "python",
     "metadata": {},
     "outputs": [
      {
       "html": [
        "<div style=\"max-height:1000px;max-width:1500px;overflow:auto;\">\n",
        "<table border=\"1\" class=\"dataframe\">\n",
        "  <thead>\n",
        "    <tr style=\"text-align: right;\">\n",
        "      <th>preds</th>\n",
        "      <th>setosa</th>\n",
        "      <th>versicolor</th>\n",
        "      <th>virginica</th>\n",
        "    </tr>\n",
        "    <tr>\n",
        "      <th>actual</th>\n",
        "      <th></th>\n",
        "      <th></th>\n",
        "      <th></th>\n",
        "    </tr>\n",
        "  </thead>\n",
        "  <tbody>\n",
        "    <tr>\n",
        "      <th>setosa</th>\n",
        "      <td> 10</td>\n",
        "      <td>  0</td>\n",
        "      <td>  0</td>\n",
        "    </tr>\n",
        "    <tr>\n",
        "      <th>versicolor</th>\n",
        "      <td>  0</td>\n",
        "      <td> 13</td>\n",
        "      <td>  2</td>\n",
        "    </tr>\n",
        "    <tr>\n",
        "      <th>virginica</th>\n",
        "      <td>  0</td>\n",
        "      <td>  1</td>\n",
        "      <td> 10</td>\n",
        "    </tr>\n",
        "  </tbody>\n",
        "</table>\n",
        "<p>3 rows \u00d7 3 columns</p>\n",
        "</div>"
       ],
       "metadata": {},
       "output_type": "pyout",
       "prompt_number": 80,
       "text": [
        "preds       setosa  versicolor  virginica\n",
        "actual                                   \n",
        "setosa          10           0          0\n",
        "versicolor       0          13          2\n",
        "virginica        0           1         10\n",
        "\n",
        "[3 rows x 3 columns]"
       ]
      }
     ],
     "prompt_number": 80
    },
    {
     "cell_type": "code",
     "collapsed": false,
     "input": [
      "training_data = RF_data\n",
      "training_data['is_train'] = np.random.uniform(0, 1, len(RF_data)) <= .75\n",
      "training_data.head()\n",
      " \n",
      "train, test = training_data[training_data['is_train']==True], training_data[training_data['is_train']==False]\n",
      " \n",
      "features = training_data.columns[:4]\n",
      "clf = RandomForestClassifier(n_jobs=2)\n",
      "y, _ = pd.factorize(train['winner'])\n",
      "clf.fit(train[features], y)\n",
      "\n",
      "target_names = np.array(['strongseed', 'weakseed'])\n",
      "preds = clf.predict(test[features])\n",
      "cross_tab = pd.crosstab(test['winner'], preds, rownames=['actual'], colnames=['preds'])"
     ],
     "language": "python",
     "metadata": {},
     "outputs": [],
     "prompt_number": 128
    },
    {
     "cell_type": "code",
     "collapsed": false,
     "input": [
      "cross_tab"
     ],
     "language": "python",
     "metadata": {},
     "outputs": [
      {
       "html": [
        "<div style=\"max-height:1000px;max-width:1500px;overflow:auto;\">\n",
        "<table border=\"1\" class=\"dataframe\">\n",
        "  <thead>\n",
        "    <tr style=\"text-align: right;\">\n",
        "      <th>preds</th>\n",
        "      <th>0</th>\n",
        "    </tr>\n",
        "    <tr>\n",
        "      <th>actual</th>\n",
        "      <th></th>\n",
        "    </tr>\n",
        "  </thead>\n",
        "  <tbody>\n",
        "    <tr>\n",
        "      <th>0</th>\n",
        "      <td>  4</td>\n",
        "    </tr>\n",
        "    <tr>\n",
        "      <th>1</th>\n",
        "      <td> 10</td>\n",
        "    </tr>\n",
        "  </tbody>\n",
        "</table>\n",
        "<p>2 rows \u00d7 1 columns</p>\n",
        "</div>"
       ],
       "metadata": {},
       "output_type": "pyout",
       "prompt_number": 129,
       "text": [
        "preds    0\n",
        "actual    \n",
        "0        4\n",
        "1       10\n",
        "\n",
        "[2 rows x 1 columns]"
       ]
      }
     ],
     "prompt_number": 129
    },
    {
     "cell_type": "code",
     "collapsed": false,
     "input": [
      "iris.target_names"
     ],
     "language": "python",
     "metadata": {},
     "outputs": [
      {
       "metadata": {},
       "output_type": "pyout",
       "prompt_number": 123,
       "text": [
        "array(['setosa', 'versicolor', 'virginica'], \n",
        "      dtype='|S10')"
       ]
      }
     ],
     "prompt_number": 123
    },
    {
     "cell_type": "code",
     "collapsed": false,
     "input": [
      "target_names"
     ],
     "language": "python",
     "metadata": {},
     "outputs": [
      {
       "metadata": {},
       "output_type": "pyout",
       "prompt_number": 126,
       "text": [
        "array(['strongseed', 'weakseed'], \n",
        "      dtype='|S10')"
       ]
      }
     ],
     "prompt_number": 126
    },
    {
     "cell_type": "code",
     "collapsed": false,
     "input": [],
     "language": "python",
     "metadata": {},
     "outputs": []
    }
   ],
   "metadata": {}
  }
 ]
}